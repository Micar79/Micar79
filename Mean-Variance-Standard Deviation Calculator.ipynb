{
  "nbformat": 4,
  "nbformat_minor": 0,
  "metadata": {
    "colab": {
      "name": "Untitled2.ipynb",
      "provenance": [],
      "authorship_tag": "ABX9TyOs/wV5NON9qz/X8xGxo8IV",
      "include_colab_link": true
    },
    "kernelspec": {
      "name": "python3",
      "display_name": "Python 3"
    },
    "language_info": {
      "name": "python"
    }
  },
  "cells": [
    {
      "cell_type": "markdown",
      "metadata": {
        "id": "view-in-github",
        "colab_type": "text"
      },
      "source": [
        "<a href=\"https://colab.research.google.com/github/Micar79/Micar79/blob/main/Mean-Variance-Standard%20Deviation%20Calculator.ipynb\" target=\"_parent\"><img src=\"https://colab.research.google.com/assets/colab-badge.svg\" alt=\"Open In Colab\"/></a>"
      ]
    },
    {
      "cell_type": "markdown",
      "source": [
        "##Mean-Variance-Standard Deviation Calculator"
      ],
      "metadata": {
        "id": "HeucdataFwHR"
      }
    },
    {
      "cell_type": "code",
      "source": [
        "def calculate(x):\n",
        "  import numpy as np\n",
        "  if len(x)!=9:\n",
        "    raise ValueError (\"List must contain nine numbers.\")\n",
        "  else: \n",
        "    xn=np.array(x).reshape(3,3)\n",
        "    result={ \"mean\": [(np.mean(xn,i)).tolist() for i in [0,1, None]],\n",
        "            \"standard deviation\":[(np.std(xn,i)).tolist() for i in [0,1, None]],\n",
        "            \"variance\": [(np.var(xn,i)).tolist() for i in [0,1, None]],\n",
        "            \"Max\": [(np.max(xn,i)).tolist() for i in [0,1, None]],\n",
        "            \"Min\": [(np.min(xn,i)).tolist() for i in [0,1, None]],\n",
        "            \"Sum\": [(np.sum(xn,i)).tolist() for i in [0,1, None]]\n",
        "\n",
        "            }\n",
        "  \n",
        "  return result\n"
      ],
      "metadata": {
        "id": "hg7FBvRq-RsP"
      },
      "execution_count": 40,
      "outputs": []
    },
    {
      "cell_type": "code",
      "source": [
        "calculate([0,1,2,3,4,5,6,7,8])"
      ],
      "metadata": {
        "colab": {
          "base_uri": "https://localhost:8080/"
        },
        "id": "FpmaZ6BRB6kT",
        "outputId": "85661b8a-640e-4411-8525-e657601b4602"
      },
      "execution_count": 41,
      "outputs": [
        {
          "output_type": "execute_result",
          "data": {
            "text/plain": [
              "{'Max': [[6, 7, 8], [2, 5, 8], 8],\n",
              " 'Min': [[0, 1, 2], [0, 3, 6], 0],\n",
              " 'Sum': [[9, 12, 15], [3, 12, 21], 36],\n",
              " 'mean': [[3.0, 4.0, 5.0], [1.0, 4.0, 7.0], 4.0],\n",
              " 'standard deviation': [[2.449489742783178,\n",
              "   2.449489742783178,\n",
              "   2.449489742783178],\n",
              "  [0.816496580927726, 0.816496580927726, 0.816496580927726],\n",
              "  2.581988897471611],\n",
              " 'variance': [[6.0, 6.0, 6.0],\n",
              "  [0.6666666666666666, 0.6666666666666666, 0.6666666666666666],\n",
              "  6.666666666666667]}"
            ]
          },
          "metadata": {},
          "execution_count": 41
        }
      ]
    }
  ]
}